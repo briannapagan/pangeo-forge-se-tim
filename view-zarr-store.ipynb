{
 "cells": [
  {
   "attachments": {},
   "cell_type": "markdown",
   "id": "a41bc66f",
   "metadata": {},
   "source": [
    "# Open created zarr and kerchunk stores"
   ]
  },
  {
   "cell_type": "code",
   "execution_count": null,
   "id": "34c361ee",
   "metadata": {},
   "outputs": [],
   "source": [
    "import xarray as xr\n",
    "import os"
   ]
  },
  {
   "cell_type": "code",
   "execution_count": null,
   "id": "52b4bbbb",
   "metadata": {},
   "outputs": [],
   "source": [
    "full_path = os.path.join('target/', \"gpm.zarr\")\n",
    "ds = xr.open_dataset(full_path, engine=\"zarr\")"
   ]
  },
  {
   "cell_type": "code",
   "execution_count": null,
   "id": "91dd7bf8-ed43-40d2-82af-ef11e8a47968",
   "metadata": {
    "tags": []
   },
   "outputs": [],
   "source": [
    "ds"
   ]
  }
 ],
 "metadata": {
  "kernelspec": {
   "display_name": "Python 3 (ipykernel)",
   "language": "python",
   "name": "python3"
  },
  "language_info": {
   "codemirror_mode": {
    "name": "ipython",
    "version": 3
   },
   "file_extension": ".py",
   "mimetype": "text/x-python",
   "name": "python",
   "nbconvert_exporter": "python",
   "pygments_lexer": "ipython3",
   "version": "3.9.16"
  }
 },
 "nbformat": 4,
 "nbformat_minor": 5
}
