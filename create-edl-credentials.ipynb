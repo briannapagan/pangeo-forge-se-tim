{
 "cells": [
  {
   "cell_type": "markdown",
   "id": "informative-sucking",
   "metadata": {},
   "source": [
    "# How to Create and Store Earthdata Login Credentials Using Python\n",
    "### Author: Chris Battisto\n",
    "### Date Authored: 2-4-22\n",
    "\n",
    "### Timing\n",
    "\n",
    "Exercise: 5 minutes\n",
    "\n",
    "### Overview\n",
    "\n",
    "This notebook demonstrates how to generate and store your Earthdata Login credentials in a <code>.netrc</code> file.\n",
    "\n",
    "### Prerequisites\n",
    "\n",
    "This notebook was written using Python 3.8, and requires:\n",
    "- Valid Earthdata Login credentials\n"
   ]
  },
  {
   "attachments": {},
   "cell_type": "markdown",
   "id": "9115cd8c",
   "metadata": {},
   "source": [
    "The following Python code will prompt you for your Earthdata username and password before generating and storing these three files in their appropriate locations for Windows, Linux, or macOS operating systems. It can be run multiple times, and each time will overwrite existing credential files (if they already exist). This code can be run inside of this notebook or can be put into its own Python script.\n",
    "\n",
    "**Note**: For Windows users, the ```.dodsrc``` file is also required in your working directory, which may require re-running this code in other project directories, or manually copying the ```.dodsrc``` file into any other project directories that access GES DISC data. The code below will automatically check if it is run inside of a Windows environment and will copy ```.dodsrc``` into your current working directory."
   ]
  },
  {
   "cell_type": "code",
   "execution_count": null,
   "id": "rotary-twelve",
   "metadata": {},
   "outputs": [],
   "source": [
    "from subprocess import Popen\n",
    "from getpass import getpass\n",
    "import platform\n",
    "import os\n",
    "import shutil\n",
    "\n",
    "urs = 'urs.earthdata.nasa.gov'    # Earthdata URL to call for authentication\n",
    "prompts = ['Enter NASA Earthdata Login Username \\n(or create an account at urs.earthdata.nasa.gov): ',\n",
    "           'Enter NASA Earthdata Login Password: ']\n",
    "\n",
    "homeDir = os.path.expanduser(\"~\") + os.sep\n",
    "\n",
    "with open(homeDir + '.netrc', 'w') as file:\n",
    "    file.write('machine {} login {} password {}'.format(urs, getpass(prompt=prompts[0]), getpass(prompt=prompts[1])))\n",
    "    file.close()\n",
    "with open(homeDir + '.urs_cookies', 'w') as file:\n",
    "    file.write('')\n",
    "    file.close()\n",
    "with open(homeDir + '.dodsrc', 'w') as file:\n",
    "    file.write('HTTP.COOKIEJAR={}.urs_cookies\\n'.format(homeDir))\n",
    "    file.write('HTTP.NETRC={}.netrc'.format(homeDir))\n",
    "    file.close()\n",
    "\n",
    "print('Saved .netrc, .urs_cookies, and .dodsrc to:', homeDir)\n",
    "\n",
    "# Set appropriate permissions for Linux/macOS\n",
    "if platform.system() != \"Windows\":\n",
    "    Popen('chmod og-rw ~/.netrc', shell=True)\n",
    "else:\n",
    "    # Copy dodsrc to working directory in Windows  \n",
    "    shutil.copy2(homeDir + '.dodsrc', os.getcwd())\n",
    "    print('Copied .dodsrc to:', os.getcwd())"
   ]
  },
  {
   "cell_type": "markdown",
   "id": "2cde3568",
   "metadata": {},
   "source": [
    "Check that the file is present inside of your home directory:"
   ]
  },
  {
   "cell_type": "code",
   "execution_count": null,
   "id": "a38f117a",
   "metadata": {},
   "outputs": [],
   "source": [
    "! ls -al ~/"
   ]
  }
 ],
 "metadata": {
  "kernelspec": {
   "display_name": "Python 3 (ipykernel)",
   "language": "python",
   "name": "python3"
  },
  "language_info": {
   "codemirror_mode": {
    "name": "ipython",
    "version": 3
   },
   "file_extension": ".py",
   "mimetype": "text/x-python",
   "name": "python",
   "nbconvert_exporter": "python",
   "pygments_lexer": "ipython3",
   "version": "3.9.15"
  }
 },
 "nbformat": 4,
 "nbformat_minor": 5
}
